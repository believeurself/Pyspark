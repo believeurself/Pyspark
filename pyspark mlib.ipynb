{
 "cells": [
  {
   "cell_type": "code",
   "execution_count": 1,
   "metadata": {},
   "outputs": [],
   "source": [
    "from pyspark.sql import SparkSession"
   ]
  },
  {
   "cell_type": "code",
   "execution_count": 2,
   "metadata": {},
   "outputs": [
    {
     "name": "stderr",
     "output_type": "stream",
     "text": [
      "21/09/11 10:37:30 WARN Utils: Your hostname, Subhajits-MacBook-Air.local resolves to a loopback address: 127.0.0.1, but we couldn't find any external IP address!\n",
      "21/09/11 10:37:30 WARN Utils: Set SPARK_LOCAL_IP if you need to bind to another address\n",
      "21/09/11 10:37:31 WARN NativeCodeLoader: Unable to load native-hadoop library for your platform... using builtin-java classes where applicable\n",
      "Using Spark's default log4j profile: org/apache/spark/log4j-defaults.properties\n",
      "Setting default log level to \"WARN\".\n",
      "To adjust logging level use sc.setLogLevel(newLevel). For SparkR, use setLogLevel(newLevel).\n",
      "21/09/11 10:37:33 WARN MacAddressUtil: Failed to find a usable hardware address from the network interfaces; using random bytes: 30:c6:7e:ee:36:d9:70:ce\n"
     ]
    }
   ],
   "source": [
    "spark = SparkSession.builder.appName('Hiring').getOrCreate()"
   ]
  },
  {
   "cell_type": "code",
   "execution_count": 9,
   "metadata": {},
   "outputs": [],
   "source": [
    "training = spark.read.csv('/Users/subhajitsaha/Documents/Data Science Projects/Salary prediction/hiring.csv',\n",
    "                         header=True, inferSchema=True)"
   ]
  },
  {
   "cell_type": "code",
   "execution_count": 10,
   "metadata": {},
   "outputs": [
    {
     "name": "stdout",
     "output_type": "stream",
     "text": [
      "+---------+----------+---------------+------+\n",
      "|experince|test_score|interview_score|salary|\n",
      "+---------+----------+---------------+------+\n",
      "|        0|         8|              9| 50000|\n",
      "|        0|         8|              9| 45000|\n",
      "|        5|         6|              7| 60000|\n",
      "|        2|        10|             10| 65000|\n",
      "|        7|         9|              6| 70000|\n",
      "|        3|         7|             10| 62000|\n",
      "|       10|         8|              7| 72000|\n",
      "|       11|         7|              8| 80000|\n",
      "+---------+----------+---------------+------+\n",
      "\n"
     ]
    }
   ],
   "source": [
    "training.show()"
   ]
  },
  {
   "cell_type": "code",
   "execution_count": 11,
   "metadata": {},
   "outputs": [
    {
     "name": "stdout",
     "output_type": "stream",
     "text": [
      "root\n",
      " |-- experince: integer (nullable = true)\n",
      " |-- test_score: integer (nullable = true)\n",
      " |-- interview_score: integer (nullable = true)\n",
      " |-- salary: integer (nullable = true)\n",
      "\n"
     ]
    }
   ],
   "source": [
    "training.printSchema()"
   ]
  },
  {
   "cell_type": "code",
   "execution_count": 12,
   "metadata": {},
   "outputs": [
    {
     "data": {
      "text/plain": [
       "['experince', 'test_score', 'interview_score', 'salary']"
      ]
     },
     "execution_count": 12,
     "metadata": {},
     "output_type": "execute_result"
    }
   ],
   "source": [
    "training.columns"
   ]
  },
  {
   "cell_type": "code",
   "execution_count": 13,
   "metadata": {},
   "outputs": [],
   "source": [
    "# we have to group all the independent features and create a single new feature with them\n",
    "# [experince, test_score, interview_score]\n",
    "from pyspark.ml.feature import VectorAssembler\n",
    "feature_assembler = VectorAssembler(inputCols=['experince', 'test_score', 'interview_score'], outputCol='Independent features')"
   ]
  },
  {
   "cell_type": "code",
   "execution_count": 14,
   "metadata": {},
   "outputs": [],
   "source": [
    "output = feature_assembler.transform(training)"
   ]
  },
  {
   "cell_type": "code",
   "execution_count": 15,
   "metadata": {},
   "outputs": [
    {
     "name": "stdout",
     "output_type": "stream",
     "text": [
      "+---------+----------+---------------+------+--------------------+\n",
      "|experince|test_score|interview_score|salary|Independent features|\n",
      "+---------+----------+---------------+------+--------------------+\n",
      "|        0|         8|              9| 50000|       [0.0,8.0,9.0]|\n",
      "|        0|         8|              9| 45000|       [0.0,8.0,9.0]|\n",
      "|        5|         6|              7| 60000|       [5.0,6.0,7.0]|\n",
      "|        2|        10|             10| 65000|     [2.0,10.0,10.0]|\n",
      "|        7|         9|              6| 70000|       [7.0,9.0,6.0]|\n",
      "|        3|         7|             10| 62000|      [3.0,7.0,10.0]|\n",
      "|       10|         8|              7| 72000|      [10.0,8.0,7.0]|\n",
      "|       11|         7|              8| 80000|      [11.0,7.0,8.0]|\n",
      "+---------+----------+---------------+------+--------------------+\n",
      "\n"
     ]
    }
   ],
   "source": [
    "output.show()"
   ]
  },
  {
   "cell_type": "code",
   "execution_count": 16,
   "metadata": {},
   "outputs": [
    {
     "data": {
      "text/plain": [
       "['experince',\n",
       " 'test_score',\n",
       " 'interview_score',\n",
       " 'salary',\n",
       " 'Independent features']"
      ]
     },
     "execution_count": 16,
     "metadata": {},
     "output_type": "execute_result"
    }
   ],
   "source": [
    "output.columns"
   ]
  },
  {
   "cell_type": "code",
   "execution_count": 17,
   "metadata": {},
   "outputs": [
    {
     "name": "stdout",
     "output_type": "stream",
     "text": [
      "+--------------------+------+\n",
      "|Independent features|salary|\n",
      "+--------------------+------+\n",
      "|       [0.0,8.0,9.0]| 50000|\n",
      "|       [0.0,8.0,9.0]| 45000|\n",
      "|       [5.0,6.0,7.0]| 60000|\n",
      "|     [2.0,10.0,10.0]| 65000|\n",
      "|       [7.0,9.0,6.0]| 70000|\n",
      "|      [3.0,7.0,10.0]| 62000|\n",
      "|      [10.0,8.0,7.0]| 72000|\n",
      "|      [11.0,7.0,8.0]| 80000|\n",
      "+--------------------+------+\n",
      "\n"
     ]
    }
   ],
   "source": [
    "finalized_data = output.select('Independent features', 'salary')\n",
    "finalized_data.show()"
   ]
  },
  {
   "cell_type": "code",
   "execution_count": 18,
   "metadata": {},
   "outputs": [],
   "source": [
    "from pyspark.ml.regression import LinearRegression"
   ]
  },
  {
   "cell_type": "code",
   "execution_count": 19,
   "metadata": {},
   "outputs": [],
   "source": [
    "# train-test split\n",
    "train_data, test_data = finalized_data.randomSplit([0.8, 0.2])"
   ]
  },
  {
   "cell_type": "code",
   "execution_count": 20,
   "metadata": {},
   "outputs": [],
   "source": [
    "regressor = LinearRegression(featuresCol='Independent features', labelCol='salary')"
   ]
  },
  {
   "cell_type": "code",
   "execution_count": 23,
   "metadata": {},
   "outputs": [
    {
     "name": "stderr",
     "output_type": "stream",
     "text": [
      "21/09/11 11:04:25 WARN Instrumentation: [6e1e9e61] regParam is zero, which might cause numerical instability and overfitting.\n"
     ]
    }
   ],
   "source": [
    "regressor = regressor.fit(train_data)"
   ]
  },
  {
   "cell_type": "code",
   "execution_count": 26,
   "metadata": {},
   "outputs": [
    {
     "data": {
      "text/plain": [
       "DenseVector([3025.967, 2409.6277, 1540.8483])"
      ]
     },
     "execution_count": 26,
     "metadata": {},
     "output_type": "execute_result"
    }
   ],
   "source": [
    "regressor.coefficients"
   ]
  },
  {
   "cell_type": "code",
   "execution_count": 27,
   "metadata": {},
   "outputs": [
    {
     "data": {
      "text/plain": [
       "16334.859621641037"
      ]
     },
     "execution_count": 27,
     "metadata": {},
     "output_type": "execute_result"
    }
   ],
   "source": [
    "regressor.intercept"
   ]
  },
  {
   "cell_type": "code",
   "execution_count": 28,
   "metadata": {},
   "outputs": [],
   "source": [
    "pred_result = regressor.evaluate(test_data)"
   ]
  },
  {
   "cell_type": "code",
   "execution_count": 29,
   "metadata": {},
   "outputs": [
    {
     "name": "stdout",
     "output_type": "stream",
     "text": [
      "+--------------------+------+-----------------+\n",
      "|Independent features|salary|       prediction|\n",
      "+--------------------+------+-----------------+\n",
      "|       [0.0,8.0,9.0]| 50000|49479.51560428971|\n",
      "|      [3.0,7.0,10.0]| 62000|57688.63718520323|\n",
      "+--------------------+------+-----------------+\n",
      "\n"
     ]
    }
   ],
   "source": [
    "pred_result.predictions.show()"
   ]
  },
  {
   "cell_type": "code",
   "execution_count": 30,
   "metadata": {},
   "outputs": [
    {
     "data": {
      "text/plain": [
       "(2415.9236052535307, 9429376.663495112)"
      ]
     },
     "execution_count": 30,
     "metadata": {},
     "output_type": "execute_result"
    }
   ],
   "source": [
    "pred_result.meanAbsoluteError, pred_result.meanSquaredError"
   ]
  },
  {
   "cell_type": "code",
   "execution_count": null,
   "metadata": {},
   "outputs": [],
   "source": []
  }
 ],
 "metadata": {
  "kernelspec": {
   "display_name": "Python 3",
   "language": "python",
   "name": "python3"
  },
  "language_info": {
   "codemirror_mode": {
    "name": "ipython",
    "version": 3
   },
   "file_extension": ".py",
   "mimetype": "text/x-python",
   "name": "python",
   "nbconvert_exporter": "python",
   "pygments_lexer": "ipython3",
   "version": "3.8.5"
  }
 },
 "nbformat": 4,
 "nbformat_minor": 5
}
