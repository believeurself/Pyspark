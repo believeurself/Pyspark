{
 "cells": [
  {
   "cell_type": "code",
   "execution_count": 1,
   "id": "a18c21a6",
   "metadata": {},
   "outputs": [],
   "source": [
    "from pyspark.sql import SparkSession"
   ]
  },
  {
   "cell_type": "code",
   "execution_count": 2,
   "id": "ee7c40f6",
   "metadata": {},
   "outputs": [
    {
     "name": "stderr",
     "output_type": "stream",
     "text": [
      "21/09/11 09:44:54 WARN Utils: Your hostname, Subhajits-MacBook-Air.local resolves to a loopback address: 127.0.0.1, but we couldn't find any external IP address!\n",
      "21/09/11 09:44:54 WARN Utils: Set SPARK_LOCAL_IP if you need to bind to another address\n",
      "21/09/11 09:44:55 WARN NativeCodeLoader: Unable to load native-hadoop library for your platform... using builtin-java classes where applicable\n",
      "Using Spark's default log4j profile: org/apache/spark/log4j-defaults.properties\n",
      "Setting default log level to \"WARN\".\n",
      "To adjust logging level use sc.setLogLevel(newLevel). For SparkR, use setLogLevel(newLevel).\n",
      "21/09/11 09:44:57 WARN MacAddressUtil: Failed to find a usable hardware address from the network interfaces; using random bytes: e0:ce:34:e0:34:3a:21:cf\n"
     ]
    }
   ],
   "source": [
    "spark = SparkSession.builder.appName('dataframe').getOrCreate()"
   ]
  },
  {
   "cell_type": "code",
   "execution_count": 3,
   "id": "efec851e",
   "metadata": {},
   "outputs": [
    {
     "name": "stderr",
     "output_type": "stream",
     "text": [
      "                                                                                \r"
     ]
    }
   ],
   "source": [
    "df_pyspark = spark.read.csv('/Users/subhajitsaha/Documents/Data Science Projects/Salary prediction/hiring.csv', header=True,\n",
    "                            inferSchema=True)"
   ]
  },
  {
   "cell_type": "code",
   "execution_count": 4,
   "id": "f15fc31e",
   "metadata": {},
   "outputs": [
    {
     "name": "stdout",
     "output_type": "stream",
     "text": [
      "+----------+----------+---------------+------+\n",
      "|experience|test_score|interview_score|salary|\n",
      "+----------+----------+---------------+------+\n",
      "|      null|         8|              9| 50000|\n",
      "|      null|         8|              6| 45000|\n",
      "|      five|         6|              7| 60000|\n",
      "|       two|        10|             10| 65000|\n",
      "|     seven|         9|              6| 70000|\n",
      "|     three|         7|             10| 62000|\n",
      "|       ten|      null|              7| 72000|\n",
      "|    eleven|         7|              8| 80000|\n",
      "+----------+----------+---------------+------+\n",
      "\n"
     ]
    }
   ],
   "source": [
    "df_pyspark.show()"
   ]
  },
  {
   "cell_type": "code",
   "execution_count": 5,
   "id": "19d3800f",
   "metadata": {},
   "outputs": [
    {
     "name": "stdout",
     "output_type": "stream",
     "text": [
      "+----------+----------+---------------+------+\n",
      "|experience|test_score|interview_score|salary|\n",
      "+----------+----------+---------------+------+\n",
      "|     seven|         9|              6| 70000|\n",
      "|       ten|      null|              7| 72000|\n",
      "|    eleven|         7|              8| 80000|\n",
      "+----------+----------+---------------+------+\n",
      "\n"
     ]
    }
   ],
   "source": [
    "# salary more than or equal to 70000\n",
    "df_pyspark.filter('salary >= 70000').show()    # or df_pyspark.filter(df_pyspark['salary'] >= 70000).show()"
   ]
  },
  {
   "cell_type": "code",
   "execution_count": 6,
   "id": "d114e84a",
   "metadata": {},
   "outputs": [
    {
     "name": "stdout",
     "output_type": "stream",
     "text": [
      "+----------+----------+---------------+------+\n",
      "|experience|test_score|interview_score|salary|\n",
      "+----------+----------+---------------+------+\n",
      "|     seven|         9|              6| 70000|\n",
      "|       ten|      null|              7| 72000|\n",
      "+----------+----------+---------------+------+\n",
      "\n"
     ]
    }
   ],
   "source": [
    "df_pyspark.filter((df_pyspark['salary'] >= 70000) & (df_pyspark['salary'] < 80000)).show()"
   ]
  },
  {
   "cell_type": "code",
   "execution_count": 7,
   "id": "b7ec30cd",
   "metadata": {},
   "outputs": [
    {
     "name": "stdout",
     "output_type": "stream",
     "text": [
      "+----------+----------+---------------+------+\n",
      "|experience|test_score|interview_score|salary|\n",
      "+----------+----------+---------------+------+\n",
      "|      null|         8|              9| 50000|\n",
      "|      null|         8|              6| 45000|\n",
      "|      five|         6|              7| 60000|\n",
      "|       two|        10|             10| 65000|\n",
      "|     three|         7|             10| 62000|\n",
      "+----------+----------+---------------+------+\n",
      "\n"
     ]
    }
   ],
   "source": [
    "# not operation/inverse filter operation\n",
    "df_pyspark.filter(~(df_pyspark['salary'] >= 70000)).show()"
   ]
  },
  {
   "cell_type": "code",
   "execution_count": null,
   "id": "a7da06b0",
   "metadata": {},
   "outputs": [],
   "source": []
  }
 ],
 "metadata": {
  "kernelspec": {
   "display_name": "Python 3 (ipykernel)",
   "language": "python",
   "name": "python3"
  },
  "language_info": {
   "codemirror_mode": {
    "name": "ipython",
    "version": 3
   },
   "file_extension": ".py",
   "mimetype": "text/x-python",
   "name": "python",
   "nbconvert_exporter": "python",
   "pygments_lexer": "ipython3",
   "version": "3.9.1"
  }
 },
 "nbformat": 4,
 "nbformat_minor": 5
}
